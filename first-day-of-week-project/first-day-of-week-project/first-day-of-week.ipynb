{
 "cells": [
  {
   "cell_type": "markdown",
   "metadata": {},
   "source": [
    "# What is the First Day of the Week?\n",
    "\n",
    "Whether the Gregorian calendar shows Sunday or Monday as the first day of the week depends on where you live.\n",
    "\n",
    "Do more countries start the week on Sunday or Monday? What about people? What about by continent?\n",
    "\n",
    "The file `first-day-of-week.csv` shows the first day of the week for each territory. The file `population.csv` shows the population in the year 2020 for each territory in millions, and the file `four-regions.csv` specifies whether each territory is in asia, europe, africa, or the americas. \n"
   ]
  },
  {
   "cell_type": "code",
   "execution_count": 2,
   "metadata": {},
   "outputs": [],
   "source": [
    "# FOR GOOGLE COLAB ONLY.\n",
    "# Uncomment and run the code below. A dialog will appear to upload files.\n",
    "# Upload 'first-day-of-week.csv', 'population.csv', and 'four-regions.csv'.\n",
    "\n",
    "# from google.colab import files\n",
    "# uploaded = files.upload()"
   ]
  },
  {
   "cell_type": "code",
   "execution_count": 3,
   "metadata": {},
   "outputs": [
    {
     "data": {
      "text/html": [
       "<div>\n",
       "<style scoped>\n",
       "    .dataframe tbody tr th:only-of-type {\n",
       "        vertical-align: middle;\n",
       "    }\n",
       "\n",
       "    .dataframe tbody tr th {\n",
       "        vertical-align: top;\n",
       "    }\n",
       "\n",
       "    .dataframe thead th {\n",
       "        text-align: right;\n",
       "    }\n",
       "</style>\n",
       "<table border=\"1\" class=\"dataframe\">\n",
       "  <thead>\n",
       "    <tr style=\"text-align: right;\">\n",
       "      <th></th>\n",
       "      <th>territory</th>\n",
       "      <th>alpha3</th>\n",
       "      <th>first_day</th>\n",
       "      <th>units</th>\n",
       "      <th>paper</th>\n",
       "    </tr>\n",
       "  </thead>\n",
       "  <tbody>\n",
       "    <tr>\n",
       "      <th>0</th>\n",
       "      <td>Afghanistan</td>\n",
       "      <td>AFG</td>\n",
       "      <td>sat</td>\n",
       "      <td>metric</td>\n",
       "      <td>A4</td>\n",
       "    </tr>\n",
       "    <tr>\n",
       "      <th>1</th>\n",
       "      <td>Aland Islands</td>\n",
       "      <td>ALA</td>\n",
       "      <td>mon</td>\n",
       "      <td>metric</td>\n",
       "      <td>A4</td>\n",
       "    </tr>\n",
       "    <tr>\n",
       "      <th>2</th>\n",
       "      <td>Albania</td>\n",
       "      <td>ALB</td>\n",
       "      <td>mon</td>\n",
       "      <td>metric</td>\n",
       "      <td>A4</td>\n",
       "    </tr>\n",
       "    <tr>\n",
       "      <th>3</th>\n",
       "      <td>Algeria</td>\n",
       "      <td>DZA</td>\n",
       "      <td>sat</td>\n",
       "      <td>metric</td>\n",
       "      <td>A4</td>\n",
       "    </tr>\n",
       "    <tr>\n",
       "      <th>4</th>\n",
       "      <td>American Samoa</td>\n",
       "      <td>ASM</td>\n",
       "      <td>sun</td>\n",
       "      <td>metric</td>\n",
       "      <td>A4</td>\n",
       "    </tr>\n",
       "  </tbody>\n",
       "</table>\n",
       "</div>"
      ],
      "text/plain": [
       "        territory alpha3 first_day   units paper\n",
       "0     Afghanistan    AFG       sat  metric    A4\n",
       "1   Aland Islands    ALA       mon  metric    A4\n",
       "2         Albania    ALB       mon  metric    A4\n",
       "3         Algeria    DZA       sat  metric    A4\n",
       "4  American Samoa    ASM       sun  metric    A4"
      ]
     },
     "execution_count": 3,
     "metadata": {},
     "output_type": "execute_result"
    }
   ],
   "source": [
    "import pandas as pd\n",
    "df = pd.read_csv('first-day-of-week.csv')\n",
    "df.head()"
   ]
  },
  {
   "cell_type": "code",
   "execution_count": 4,
   "metadata": {},
   "outputs": [
    {
     "data": {
      "text/html": [
       "<div>\n",
       "<style scoped>\n",
       "    .dataframe tbody tr th:only-of-type {\n",
       "        vertical-align: middle;\n",
       "    }\n",
       "\n",
       "    .dataframe tbody tr th {\n",
       "        vertical-align: top;\n",
       "    }\n",
       "\n",
       "    .dataframe thead th {\n",
       "        text-align: right;\n",
       "    }\n",
       "</style>\n",
       "<table border=\"1\" class=\"dataframe\">\n",
       "  <thead>\n",
       "    <tr style=\"text-align: right;\">\n",
       "      <th></th>\n",
       "      <th>alpha3</th>\n",
       "      <th>population</th>\n",
       "    </tr>\n",
       "  </thead>\n",
       "  <tbody>\n",
       "    <tr>\n",
       "      <th>0</th>\n",
       "      <td>AFG</td>\n",
       "      <td>39.07</td>\n",
       "    </tr>\n",
       "    <tr>\n",
       "      <th>1</th>\n",
       "      <td>ALB</td>\n",
       "      <td>2.87</td>\n",
       "    </tr>\n",
       "    <tr>\n",
       "      <th>2</th>\n",
       "      <td>DZA</td>\n",
       "      <td>44.04</td>\n",
       "    </tr>\n",
       "    <tr>\n",
       "      <th>3</th>\n",
       "      <td>AND</td>\n",
       "      <td>0.08</td>\n",
       "    </tr>\n",
       "    <tr>\n",
       "      <th>4</th>\n",
       "      <td>AGO</td>\n",
       "      <td>33.45</td>\n",
       "    </tr>\n",
       "  </tbody>\n",
       "</table>\n",
       "</div>"
      ],
      "text/plain": [
       "  alpha3  population\n",
       "0    AFG       39.07\n",
       "1    ALB        2.87\n",
       "2    DZA       44.04\n",
       "3    AND        0.08\n",
       "4    AGO       33.45"
      ]
     },
     "execution_count": 4,
     "metadata": {},
     "output_type": "execute_result"
    }
   ],
   "source": [
    "pop = pd.read_csv('population.csv')\n",
    "pop.head()"
   ]
  },
  {
   "cell_type": "code",
   "execution_count": 5,
   "metadata": {},
   "outputs": [
    {
     "data": {
      "text/html": [
       "<div>\n",
       "<style scoped>\n",
       "    .dataframe tbody tr th:only-of-type {\n",
       "        vertical-align: middle;\n",
       "    }\n",
       "\n",
       "    .dataframe tbody tr th {\n",
       "        vertical-align: top;\n",
       "    }\n",
       "\n",
       "    .dataframe thead th {\n",
       "        text-align: right;\n",
       "    }\n",
       "</style>\n",
       "<table border=\"1\" class=\"dataframe\">\n",
       "  <thead>\n",
       "    <tr style=\"text-align: right;\">\n",
       "      <th></th>\n",
       "      <th>alpha3</th>\n",
       "      <th>four_regions</th>\n",
       "    </tr>\n",
       "  </thead>\n",
       "  <tbody>\n",
       "    <tr>\n",
       "      <th>0</th>\n",
       "      <td>AUS</td>\n",
       "      <td>asia</td>\n",
       "    </tr>\n",
       "    <tr>\n",
       "      <th>1</th>\n",
       "      <td>BRN</td>\n",
       "      <td>asia</td>\n",
       "    </tr>\n",
       "    <tr>\n",
       "      <th>2</th>\n",
       "      <td>KHM</td>\n",
       "      <td>asia</td>\n",
       "    </tr>\n",
       "    <tr>\n",
       "      <th>3</th>\n",
       "      <td>CHN</td>\n",
       "      <td>asia</td>\n",
       "    </tr>\n",
       "    <tr>\n",
       "      <th>4</th>\n",
       "      <td>FJI</td>\n",
       "      <td>asia</td>\n",
       "    </tr>\n",
       "  </tbody>\n",
       "</table>\n",
       "</div>"
      ],
      "text/plain": [
       "  alpha3 four_regions\n",
       "0    AUS         asia\n",
       "1    BRN         asia\n",
       "2    KHM         asia\n",
       "3    CHN         asia\n",
       "4    FJI         asia"
      ]
     },
     "execution_count": 5,
     "metadata": {},
     "output_type": "execute_result"
    }
   ],
   "source": [
    "regions = pd.read_csv('four-regions.csv')\n",
    "regions.head()"
   ]
  },
  {
   "cell_type": "markdown",
   "metadata": {},
   "source": [
    "### Project Ideas\n",
    "\n",
    "- How many territories show Friday, Saturday, Sunday, and Monday as the `first_day` of the week?\n",
    "\n",
    "- How many people start the week on Friday, Saturday, Sunday, and Monday?\n",
    "\t- Hint: This will involve a `merge`.\n",
    "\n",
    "- Which of the `four_regions` predominantly start the week on Sunday? On Monday? Are there any regions that are more divided between Sunday and Monday?\n",
    "\t- Hint: This will also involve a `merge`."
   ]
  },
  {
   "cell_type": "code",
   "execution_count": 17,
   "metadata": {},
   "outputs": [
    {
     "name": "stdout",
     "output_type": "stream",
     "text": [
      "first_day\n",
      "fri      1\n",
      "mon    186\n",
      "sat     15\n",
      "sun     55\n",
      "Name: count, dtype: int64\n"
     ]
    }
   ],
   "source": [
    "territory_counts = df['first_day'].value_counts().sort_index()\n",
    "print(territory_counts)"
   ]
  },
  {
   "cell_type": "code",
   "execution_count": 22,
   "metadata": {},
   "outputs": [
    {
     "name": "stdout",
     "output_type": "stream",
     "text": [
      "=== Question 2: Population by First Day of Week ===\n",
      "Successfully merged 196 territories with population data\n",
      "       territory alpha3 first_day   units      paper  population\n",
      "0    Afghanistan    AFG       sat  metric         A4       39.07\n",
      "1        Albania    ALB       mon  metric         A4        2.87\n",
      "2        Algeria    DZA       sat  metric         A4       44.04\n",
      "3        Andorra    AND       mon  metric         A4        0.08\n",
      "4         Angola    AGO       mon  metric         A4       33.45\n",
      "..           ...    ...       ...     ...        ...         ...\n",
      "191    Venezuela    VEN       sun  metric  US-Letter       28.44\n",
      "192      Vietnam    VNM       mon  metric         A4       98.08\n",
      "193        Yemen    YEM       sun  metric         A4       36.13\n",
      "194       Zambia    ZMB       mon  metric         A4       19.06\n",
      "195     Zimbabwe    ZWE       sun  metric         A4       15.53\n",
      "\n",
      "[196 rows x 6 columns]\n",
      "Population (in millions) by first day of week:\n",
      "fri      :      0.5 million people\n",
      "mon      :   3600.2 million people\n",
      "sat      :    431.8 million people\n",
      "sun      :   3844.1 million people\n",
      "\n",
      "Percentage of world population by first day:\n",
      "fri      :   0.0%\n",
      "mon      :  45.7%\n",
      "sat      :   5.5%\n",
      "sun      :  48.8%\n",
      "\n",
      "Total population analyzed: 7876.6 million\n"
     ]
    }
   ],
   "source": [
    "# Question 2: How many people start the week on each day?\n",
    "print(\"=== Question 2: Population by First Day of Week ===\")\n",
    "\n",
    "# Merge the first day data with population data\n",
    "df_with_pop = df.merge(pop, on='alpha3', how='inner')\n",
    "print(f\"Successfully merged {len(df_with_pop)} territories with population data\")\n",
    "print(df_with_pop)\n",
    "\n",
    "# Calculate total population for each first day\n",
    "population_by_day = df_with_pop.groupby('first_day')['population'].sum().sort_index()\n",
    "print(\"Population (in millions) by first day of week:\")\n",
    "for day, pop_millions in population_by_day.items():\n",
    "    print(f\"{day:9}: {pop_millions:8.1f} million people\")\n",
    "\n",
    "print()\n",
    "\n",
    "# Calculate percentages\n",
    "total_population = population_by_day.sum()\n",
    "print(\"Percentage of world population by first day:\")\n",
    "for day, pop_millions in population_by_day.items():\n",
    "    percentage = (pop_millions / total_population) * 100\n",
    "    print(f\"{day:9}: {percentage:5.1f}%\")\n",
    "\n",
    "print(f\"\\nTotal population analyzed: {total_population:.1f} million\")\n"
   ]
  },
  {
   "cell_type": "code",
   "execution_count": 32,
   "metadata": {},
   "outputs": [
    {
     "name": "stdout",
     "output_type": "stream",
     "text": [
      "=== Question 3: Regional Analysis of First Day Preferences ===\n",
      "Successfully merged all datasets: 196 territories\n",
      "\n",
      "Columns in merged dataset:\n",
      "['territory', 'alpha3', 'first_day', 'units', 'paper', 'population', 'four_regions']\n",
      "\n",
      "Territory counts by region and first day:\n",
      "first_day     fri  mon  sat  sun\n",
      "four_regions                    \n",
      "africa          0   43    5    6\n",
      "americas        0   15    0   20\n",
      "asia            1   27   10   21\n",
      "europe          0   46    0    2\n",
      "\n",
      "Population (millions) by region and first day:\n",
      "first_day     fri     mon    sat     sun\n",
      "four_regions                            \n",
      "africa        0.0   890.4  208.3   280.4\n",
      "americas      0.0   126.9    0.0   892.4\n",
      "asia          0.5  1742.0  223.5  2660.4\n",
      "europe        0.0   840.8    0.0    10.9\n",
      "\n",
      "Percentage distribution within each region (by population):\n",
      "first_day     fri   mon   sat   sun\n",
      "four_regions                       \n",
      "africa        0.0  64.6  15.1  20.3\n",
      "americas      0.0  12.5   0.0  87.5\n",
      "asia          0.0  37.7   4.8  57.5\n",
      "europe        0.0  98.7   0.0   1.3\n",
      "\n"
     ]
    }
   ],
   "source": [
    "# Question 3: Regional analysis of first day preferences\n",
    "print(\"=== Question 3: Regional Analysis of First Day Preferences ===\")\n",
    "\n",
    "# Merge all three datasets\n",
    "df_complete = df.merge(pop, on='alpha3', how='inner').merge(regions, on='alpha3', how='inner')\n",
    "print(f\"Successfully merged all datasets: {len(df_complete)} territories\")\n",
    "print()\n",
    "\n",
    "# Let's check the column names to make sure we're using the right ones\n",
    "print(\"Columns in merged dataset:\")\n",
    "print(df_complete.columns.tolist())\n",
    "print()\n",
    "\n",
    "# Analyze by region - territory counts\n",
    "print(\"Territory counts by region and first day:\")\n",
    "region_territory_analysis = df_complete.groupby(['four_regions', 'first_day']).size().unstack(fill_value=0)\n",
    "print(region_territory_analysis)\n",
    "print()\n",
    "\n",
    "# Analyze by region - population weighted\n",
    "print(\"Population (millions) by region and first day:\")\n",
    "region_population_analysis = df_complete.groupby(['four_regions', 'first_day'])['population'].sum().unstack(fill_value=0)\n",
    "print(region_population_analysis.round(1))\n",
    "print()\n",
    "\n",
    "# Calculate percentages for each region\n",
    "print(\"Percentage distribution within each region (by population):\")\n",
    "region_percentages = region_population_analysis.div(region_population_analysis.sum(axis=1), axis=0) * 100\n",
    "print(region_percentages.round(1))\n",
    "print()\n"
   ]
  }
 ],
 "metadata": {
  "kernelspec": {
   "display_name": "Python 3",
   "language": "python",
   "name": "python3"
  },
  "language_info": {
   "codemirror_mode": {
    "name": "ipython",
    "version": 3
   },
   "file_extension": ".py",
   "mimetype": "text/x-python",
   "name": "python",
   "nbconvert_exporter": "python",
   "pygments_lexer": "ipython3",
   "version": "3.12.3"
  }
 },
 "nbformat": 4,
 "nbformat_minor": 2
}
