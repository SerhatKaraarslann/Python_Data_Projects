{
 "cells": [
  {
   "cell_type": "markdown",
   "metadata": {},
   "source": [
    "# Poison dart frogs\n",
    "\n",
    "Can you estimate how toxic a poison dart frog is based on its brightness?\n",
    "\n",
    "Poison dart frogs are small, colorful frogs from Central and South America. They're famous for their toxic skin, which some indigenous people use for blow darts.\n",
    "\n",
    "Scientists studied the connection between the bright colors and toxicity of the poison dart frog **Dendrobates pumilio**. While they're usually red with blue legs, they can be found in about 15 different colors in Panama.\n",
    "\n",
    "The file `frog-reflectance.csv` contains the average brightness (from 0 to 1) of 10 frog populations, measured on both the back and belly.\n",
    "\n",
    "The file `frog-toxicity.csv` provides a `toxicity` score (from 0 to 1) for 48 frogs from the same 10 populations. Toxicity was tested by injecting frog skin extracts into mice and recording how long it took them to fall back asleep. Longer times suggest higher `toxicity`."
   ]
  },
  {
   "cell_type": "code",
   "execution_count": 41,
   "metadata": {},
   "outputs": [],
   "source": [
    "# FOR GOOGLE COLAB ONLY.\n",
    "# Uncomment and run the code below. A dialog will appear to upload files.\n",
    "# Upload 'frog-reflectance.csv', 'frog-toxicity.csv', and 'linear_model.py'.\n",
    "\n",
    "# from google.colab import files\n",
    "# uploaded = files.upload()"
   ]
  },
  {
   "cell_type": "code",
   "execution_count": 42,
   "metadata": {},
   "outputs": [
    {
     "data": {
      "application/vnd.microsoft.datawrangler.viewer.v0+json": {
       "columns": [
        {
         "name": "index",
         "rawType": "int64",
         "type": "integer"
        },
        {
         "name": "pop_id",
         "rawType": "object",
         "type": "string"
        },
        {
         "name": "back_brightness",
         "rawType": "float64",
         "type": "float"
        },
        {
         "name": "belly_brightness",
         "rawType": "float64",
         "type": "float"
        }
       ],
       "ref": "ce28d1de-b528-4f77-82ed-49e6dc3b8834",
       "rows": [
        [
         "0",
         "AG",
         "0.43",
         "0.46"
        ],
        [
         "1",
         "AL",
         "0.64",
         "0.42"
        ],
        [
         "2",
         "BCG",
         "1.0",
         "0.95"
        ],
        [
         "3",
         "BCO",
         "0.82",
         "1.0"
        ],
        [
         "4",
         "CA",
         "0.46",
         "0.51"
        ]
       ],
       "shape": {
        "columns": 3,
        "rows": 5
       }
      },
      "text/html": [
       "<div>\n",
       "<style scoped>\n",
       "    .dataframe tbody tr th:only-of-type {\n",
       "        vertical-align: middle;\n",
       "    }\n",
       "\n",
       "    .dataframe tbody tr th {\n",
       "        vertical-align: top;\n",
       "    }\n",
       "\n",
       "    .dataframe thead th {\n",
       "        text-align: right;\n",
       "    }\n",
       "</style>\n",
       "<table border=\"1\" class=\"dataframe\">\n",
       "  <thead>\n",
       "    <tr style=\"text-align: right;\">\n",
       "      <th></th>\n",
       "      <th>pop_id</th>\n",
       "      <th>back_brightness</th>\n",
       "      <th>belly_brightness</th>\n",
       "    </tr>\n",
       "  </thead>\n",
       "  <tbody>\n",
       "    <tr>\n",
       "      <th>0</th>\n",
       "      <td>AG</td>\n",
       "      <td>0.43</td>\n",
       "      <td>0.46</td>\n",
       "    </tr>\n",
       "    <tr>\n",
       "      <th>1</th>\n",
       "      <td>AL</td>\n",
       "      <td>0.64</td>\n",
       "      <td>0.42</td>\n",
       "    </tr>\n",
       "    <tr>\n",
       "      <th>2</th>\n",
       "      <td>BCG</td>\n",
       "      <td>1.00</td>\n",
       "      <td>0.95</td>\n",
       "    </tr>\n",
       "    <tr>\n",
       "      <th>3</th>\n",
       "      <td>BCO</td>\n",
       "      <td>0.82</td>\n",
       "      <td>1.00</td>\n",
       "    </tr>\n",
       "    <tr>\n",
       "      <th>4</th>\n",
       "      <td>CA</td>\n",
       "      <td>0.46</td>\n",
       "      <td>0.51</td>\n",
       "    </tr>\n",
       "  </tbody>\n",
       "</table>\n",
       "</div>"
      ],
      "text/plain": [
       "  pop_id  back_brightness  belly_brightness\n",
       "0     AG             0.43              0.46\n",
       "1     AL             0.64              0.42\n",
       "2    BCG             1.00              0.95\n",
       "3    BCO             0.82              1.00\n",
       "4     CA             0.46              0.51"
      ]
     },
     "execution_count": 42,
     "metadata": {},
     "output_type": "execute_result"
    }
   ],
   "source": [
    "import pandas as pd\n",
    "import matplotlib.pyplot as plt\n",
    "from linear_model import LinearModel\n",
    "\n",
    "df = pd.read_csv('frog-reflectance.csv')\n",
    "df.head()"
   ]
  },
  {
   "cell_type": "code",
   "execution_count": 43,
   "metadata": {},
   "outputs": [
    {
     "data": {
      "application/vnd.microsoft.datawrangler.viewer.v0+json": {
       "columns": [
        {
         "name": "index",
         "rawType": "int64",
         "type": "integer"
        },
        {
         "name": "pop_id",
         "rawType": "object",
         "type": "string"
        },
        {
         "name": "frog_id",
         "rawType": "object",
         "type": "string"
        },
        {
         "name": "toxicity",
         "rawType": "float64",
         "type": "float"
        }
       ],
       "ref": "28f28ad6-4928-4b61-a9b2-16dcf2d1a3c2",
       "rows": [
        [
         "0",
         "BCO",
         "BC167",
         "0.88692505"
        ],
        [
         "1",
         "BCO",
         "BC166",
         "0.803917228"
        ],
        [
         "2",
         "BCO",
         "BC171",
         "0.625007872"
        ],
        [
         "3",
         "BCO",
         "BC169",
         "0.975846715"
        ],
        [
         "4",
         "BCO",
         "BC165",
         "0.774033126"
        ]
       ],
       "shape": {
        "columns": 3,
        "rows": 5
       }
      },
      "text/html": [
       "<div>\n",
       "<style scoped>\n",
       "    .dataframe tbody tr th:only-of-type {\n",
       "        vertical-align: middle;\n",
       "    }\n",
       "\n",
       "    .dataframe tbody tr th {\n",
       "        vertical-align: top;\n",
       "    }\n",
       "\n",
       "    .dataframe thead th {\n",
       "        text-align: right;\n",
       "    }\n",
       "</style>\n",
       "<table border=\"1\" class=\"dataframe\">\n",
       "  <thead>\n",
       "    <tr style=\"text-align: right;\">\n",
       "      <th></th>\n",
       "      <th>pop_id</th>\n",
       "      <th>frog_id</th>\n",
       "      <th>toxicity</th>\n",
       "    </tr>\n",
       "  </thead>\n",
       "  <tbody>\n",
       "    <tr>\n",
       "      <th>0</th>\n",
       "      <td>BCO</td>\n",
       "      <td>BC167</td>\n",
       "      <td>0.886925</td>\n",
       "    </tr>\n",
       "    <tr>\n",
       "      <th>1</th>\n",
       "      <td>BCO</td>\n",
       "      <td>BC166</td>\n",
       "      <td>0.803917</td>\n",
       "    </tr>\n",
       "    <tr>\n",
       "      <th>2</th>\n",
       "      <td>BCO</td>\n",
       "      <td>BC171</td>\n",
       "      <td>0.625008</td>\n",
       "    </tr>\n",
       "    <tr>\n",
       "      <th>3</th>\n",
       "      <td>BCO</td>\n",
       "      <td>BC169</td>\n",
       "      <td>0.975847</td>\n",
       "    </tr>\n",
       "    <tr>\n",
       "      <th>4</th>\n",
       "      <td>BCO</td>\n",
       "      <td>BC165</td>\n",
       "      <td>0.774033</td>\n",
       "    </tr>\n",
       "  </tbody>\n",
       "</table>\n",
       "</div>"
      ],
      "text/plain": [
       "  pop_id frog_id  toxicity\n",
       "0    BCO   BC167  0.886925\n",
       "1    BCO   BC166  0.803917\n",
       "2    BCO   BC171  0.625008\n",
       "3    BCO   BC169  0.975847\n",
       "4    BCO   BC165  0.774033"
      ]
     },
     "execution_count": 43,
     "metadata": {},
     "output_type": "execute_result"
    }
   ],
   "source": [
    "tox = pd.read_csv('frog-toxicity.csv')\n",
    "tox.head()"
   ]
  },
  {
   "cell_type": "markdown",
   "metadata": {},
   "source": [
    "# Project Ideas\n",
    "\n",
    "- Build two linear models:\n",
    "\t- Model 1: `toxicity` (x-axis) vs. `back_brightness`\n",
    "\t\n",
    "\t- Model 2: `toxicity` vs. `belly_brightness`\n",
    "\n",
    "- To create the models, first calculate the average `toxicity` for each `pop_id`, then merge these values into the main dataframe (`df`).\n",
    "\n",
    "- Visualize the data by creating scatter plots with best-fit lines for both models.\n",
    "\n",
    "- Compare the goodness of fit between back and belly brightness and explore possible biological explanations for any differences in correlation.\n"
   ]
  },
  {
   "cell_type": "code",
   "execution_count": 44,
   "metadata": {},
   "outputs": [
    {
     "data": {
      "application/vnd.microsoft.datawrangler.viewer.v0+json": {
       "columns": [
        {
         "name": "index",
         "rawType": "int64",
         "type": "integer"
        },
        {
         "name": "pop_id",
         "rawType": "object",
         "type": "string"
        },
        {
         "name": "back_brightness",
         "rawType": "float64",
         "type": "float"
        },
        {
         "name": "belly_brightness",
         "rawType": "float64",
         "type": "float"
        },
        {
         "name": "toxicity",
         "rawType": "float64",
         "type": "float"
        }
       ],
       "ref": "7b8c0018-9490-4dab-b8d0-8b41a942e78e",
       "rows": [
        [
         "0",
         "AG",
         "0.43",
         "0.46",
         "0.6329016898571428"
        ],
        [
         "1",
         "AL",
         "0.64",
         "0.42",
         "0.5008766947500001"
        ],
        [
         "2",
         "BCG",
         "1.0",
         "0.95",
         "0.8852066192000001"
        ],
        [
         "3",
         "BCO",
         "0.82",
         "1.0",
         "0.8131459981999999"
        ],
        [
         "4",
         "CA",
         "0.46",
         "0.51",
         "0.3645806368"
        ]
       ],
       "shape": {
        "columns": 4,
        "rows": 5
       }
      },
      "text/html": [
       "<div>\n",
       "<style scoped>\n",
       "    .dataframe tbody tr th:only-of-type {\n",
       "        vertical-align: middle;\n",
       "    }\n",
       "\n",
       "    .dataframe tbody tr th {\n",
       "        vertical-align: top;\n",
       "    }\n",
       "\n",
       "    .dataframe thead th {\n",
       "        text-align: right;\n",
       "    }\n",
       "</style>\n",
       "<table border=\"1\" class=\"dataframe\">\n",
       "  <thead>\n",
       "    <tr style=\"text-align: right;\">\n",
       "      <th></th>\n",
       "      <th>pop_id</th>\n",
       "      <th>back_brightness</th>\n",
       "      <th>belly_brightness</th>\n",
       "      <th>toxicity</th>\n",
       "    </tr>\n",
       "  </thead>\n",
       "  <tbody>\n",
       "    <tr>\n",
       "      <th>0</th>\n",
       "      <td>AG</td>\n",
       "      <td>0.43</td>\n",
       "      <td>0.46</td>\n",
       "      <td>0.632902</td>\n",
       "    </tr>\n",
       "    <tr>\n",
       "      <th>1</th>\n",
       "      <td>AL</td>\n",
       "      <td>0.64</td>\n",
       "      <td>0.42</td>\n",
       "      <td>0.500877</td>\n",
       "    </tr>\n",
       "    <tr>\n",
       "      <th>2</th>\n",
       "      <td>BCG</td>\n",
       "      <td>1.00</td>\n",
       "      <td>0.95</td>\n",
       "      <td>0.885207</td>\n",
       "    </tr>\n",
       "    <tr>\n",
       "      <th>3</th>\n",
       "      <td>BCO</td>\n",
       "      <td>0.82</td>\n",
       "      <td>1.00</td>\n",
       "      <td>0.813146</td>\n",
       "    </tr>\n",
       "    <tr>\n",
       "      <th>4</th>\n",
       "      <td>CA</td>\n",
       "      <td>0.46</td>\n",
       "      <td>0.51</td>\n",
       "      <td>0.364581</td>\n",
       "    </tr>\n",
       "  </tbody>\n",
       "</table>\n",
       "</div>"
      ],
      "text/plain": [
       "  pop_id  back_brightness  belly_brightness  toxicity\n",
       "0     AG             0.43              0.46  0.632902\n",
       "1     AL             0.64              0.42  0.500877\n",
       "2    BCG             1.00              0.95  0.885207\n",
       "3    BCO             0.82              1.00  0.813146\n",
       "4     CA             0.46              0.51  0.364581"
      ]
     },
     "execution_count": 44,
     "metadata": {},
     "output_type": "execute_result"
    }
   ],
   "source": [
    "# Average Toxicity pro pop_id\n",
    "tox_mean = tox.groupby('pop_id', as_index=False)['toxicity'].mean()\n",
    "df = df.merge(tox_mean, on='pop_id', how='left')\n",
    "df.head()"
   ]
  },
  {
   "cell_type": "code",
   "execution_count": null,
   "metadata": {},
   "outputs": [
    {
     "name": "stdout",
     "output_type": "stream",
     "text": [
      "LinearModel():\n",
      "Slope: 0.5758129980180036\n",
      "Intercept: 0.3165043254009716\n",
      "R-squared: 0.6067780219154056\n",
      "LinearModel():\n",
      "Slope: 0.34762229493312424\n",
      "Intercept: 0.3936848861127157\n",
      "R-squared: 0.18431612963411392\n"
     ]
    }
   ],
   "source": [
    "#Build two linear models:\n",
    "#Model 1: `toxicity` (x-axis) vs. `back_brightness`\n",
    "back_linear = LinearModel()\n",
    "back_linear.fit(df['toxicity'],df['back_brightness'])\n",
    "back_linear.print_model_info()\n",
    "\n",
    "#Model 2: `toxicity` vs. `belly_brightness`\n",
    "belly_linear = LinearModel()\n",
    "belly_linear.fit(df['toxicity'],df['belly_brightness'])\n",
    "belly_linear.print_model_info()\n"
   ]
  },
  {
   "cell_type": "code",
   "execution_count": null,
   "metadata": {},
   "outputs": [
    {
     "data": {
      "image/png": "[encoded data removed]",
      "text/plain": [
       "<Figure size 640x480 with 1 Axes>"
      ]
     },
     "metadata": {},
     "output_type": "display_data"
    }
   ],
   "source": [
    "# Visualize the data by creating scatter plots with best-fit lines for both models.\n",
    "plt.scatter(df['toxicity'], df['back_brightness'], color='red', label='Back brightness')\n",
    "plt.scatter(df['toxicity'], df['belly_brightness'], color='green', label='Belly brightness')\n",
    "plt.xlabel('Toxicity')\n",
    "plt.ylabel('Brightness')\n",
    "\n",
    "# Plot best-fit lines \n",
    "back_linear.plot_model(df['toxicity'].min(), df['toxicity'].max(), color='C0')\n",
    "belly_linear.plot_model(df['toxicity'].min(), df['toxicity'].max(), color='C1')\n",
    "\n",
    "# Add a legend that includes both the scatter groups and the fitted lines\n",
    "from matplotlib.lines import Line2D\n",
    "legend_lines = [\n",
    "\tLine2D([0], [0], marker='o', color='w', markerfacecolor='red', markersize=8, label='Back brightness'),\n",
    "\tLine2D([0], [0], marker='o', color='w', markerfacecolor='green', markersize=8, label='Belly brightness'),\n",
    "\tLine2D([0], [0], color='C0', lw=2, label='Back Brightness-Toxicity'),\n",
    "\tLine2D([0], [0], color='C1', lw=2, label='Belly Brightness-Toxicity'),\n",
    "]\n",
    "plt.legend(handles=legend_lines)\n",
    "plt.show()\n"
   ]
  },
  {
   "cell_type": "markdown",
   "metadata": {},
   "source": [
    "The table above shows slope, intercept, R², p-value, and RMSE for both models.\n",
    "If R² is significantly higher for the back model than for the belly model, this indicates that back brightness is a better predictor of toxicity.\n",
    "Possible biological explanations:\n",
    "- Visibility: The back is often the first thing predators see, so it may be more strongly associated with signaling (warning color).\n",
    "- Functional differences: Belly colors may play a greater role in courtship or intraspecific communication and be less strongly associated with defense.\n",
    "- Measurement error/variability: Different measurement methods or higher natural variability in a region can weaken the correlation."
   ]
  }
 ],
 "metadata": {
  "kernelspec": {
   "display_name": "Python 3",
   "language": "python",
   "name": "python3"
  },
  "language_info": {
   "codemirror_mode": {
    "name": "ipython",
    "version": 3
   },
   "file_extension": ".py",
   "mimetype": "text/x-python",
   "name": "python",
   "nbconvert_exporter": "python",
   "pygments_lexer": "ipython3",
   "version": "3.12.1"
  }
 },
 "nbformat": 4,
 "nbformat_minor": 2
}
